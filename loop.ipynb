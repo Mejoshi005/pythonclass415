{
 "cells": [
  {
   "cell_type": "code",
   "execution_count": null,
   "id": "59b113d7",
   "metadata": {},
   "outputs": [],
   "source": [
    "#for loop\n",
    "#while loop"
   ]
  },
  {
   "cell_type": "code",
   "execution_count": null,
   "id": "fdb18116",
   "metadata": {},
   "outputs": [],
   "source": [
    "# range(5) 0,1,2,3,4\n",
    "# range(1,5) 1,2.3,4\n",
    "# range (1,10,2) 1,3,5,7,9\n"
   ]
  },
  {
   "cell_type": "code",
   "execution_count": 3,
   "id": "0b4fbc7e",
   "metadata": {},
   "outputs": [
    {
     "name": "stdout",
     "output_type": "stream",
     "text": [
      "0 Hello World\n",
      "1 Hello World\n",
      "2 Hello World\n",
      "3 Hello World\n",
      "4 Hello World\n"
     ]
    }
   ],
   "source": [
    "for i in range(5):\n",
    "    print(i,\"Hello World\")"
   ]
  },
  {
   "cell_type": "code",
   "execution_count": 4,
   "id": "a3d5923e",
   "metadata": {},
   "outputs": [
    {
     "name": "stdout",
     "output_type": "stream",
     "text": [
      "1 Hello World\n",
      "2 Hello World\n",
      "3 Hello World\n",
      "4 Hello World\n"
     ]
    }
   ],
   "source": [
    "for i in range(1,5):\n",
    "    print(i,\"Hello World\")"
   ]
  },
  {
   "cell_type": "code",
   "execution_count": 5,
   "id": "8f98219d",
   "metadata": {},
   "outputs": [
    {
     "name": "stdout",
     "output_type": "stream",
     "text": [
      "1 Hello World\n",
      "3 Hello World\n"
     ]
    }
   ],
   "source": [
    "for i in range(1,5,2):\n",
    "    print(i,\"Hello World\")"
   ]
  },
  {
   "cell_type": "code",
   "execution_count": 7,
   "id": "9c535009",
   "metadata": {},
   "outputs": [
    {
     "name": "stdout",
     "output_type": "stream",
     "text": [
      "Enter n= 4\n",
      "4\n",
      "8\n",
      "12\n",
      "16\n",
      "20\n",
      "24\n",
      "28\n",
      "32\n",
      "36\n",
      "40\n"
     ]
    }
   ],
   "source": [
    "n=int(input(\"Enter n= \"))\n",
    "for i in range(1,11):\n",
    "    print(n*i)"
   ]
  },
  {
   "cell_type": "code",
   "execution_count": null,
   "id": "9b5da689",
   "metadata": {},
   "outputs": [],
   "source": [
    "n=int(input(\"Enter n= \"))\n",
    "for i in range(1,11):\n",
    "    print(n,s,i,)"
   ]
  },
  {
   "cell_type": "code",
   "execution_count": 10,
   "id": "8cd24cd2",
   "metadata": {},
   "outputs": [
    {
     "name": "stdout",
     "output_type": "stream",
     "text": [
      "Enter value= 12\n",
      "12\n",
      "Enter value= 12\n",
      "12\n",
      "Enter value= 13\n",
      "13\n",
      "Enter value= 14\n",
      "14\n",
      "Enter value= 15\n",
      "15\n"
     ]
    }
   ],
   "source": [
    "for i in range(5):\n",
    "    x = int(input(\"Enter value= \"))\n",
    "    print(x)\n",
    "    "
   ]
  },
  {
   "cell_type": "code",
   "execution_count": null,
   "id": "c2beed71",
   "metadata": {},
   "outputs": [],
   "source": [
    "s = 0\n",
    "for i in range(5):\n",
    "    x = int(input(\"Enter value= \"))\n",
    "    s = s + x\n",
    "\n",
    "print(s)\n",
    "    "
   ]
  },
  {
   "cell_type": "code",
   "execution_count": null,
   "id": "4b384993",
   "metadata": {},
   "outputs": [],
   "source": [
    "s = str()\n",
    "n= int(input(\"Enter n= \"))\n",
    "for i in range(n):\n",
    "    x = int(input(\"Enter value= \"))\n",
    "    s = s + x + '\\n'\n",
    "\n",
    "print(s)\n",
    "    "
   ]
  },
  {
   "cell_type": "code",
   "execution_count": 7,
   "id": "4933708e",
   "metadata": {},
   "outputs": [
    {
     "name": "stdout",
     "output_type": "stream",
     "text": [
      "Enter n= 2\n",
      "Enter name = w\n"
     ]
    },
    {
     "ename": "ValueError",
     "evalue": "invalid literal for int() with base 10: 'w'",
     "output_type": "error",
     "traceback": [
      "\u001b[1;31m---------------------------------------------------------------------------\u001b[0m",
      "\u001b[1;31mValueError\u001b[0m                                Traceback (most recent call last)",
      "\u001b[1;32m~\\AppData\\Local\\Temp\\ipykernel_3456\\971002825.py\u001b[0m in \u001b[0;36m<module>\u001b[1;34m\u001b[0m\n\u001b[0;32m      2\u001b[0m \u001b[0mn\u001b[0m\u001b[1;33m=\u001b[0m \u001b[0mint\u001b[0m\u001b[1;33m(\u001b[0m\u001b[0minput\u001b[0m\u001b[1;33m(\u001b[0m\u001b[1;34m\"Enter n= \"\u001b[0m\u001b[1;33m)\u001b[0m\u001b[1;33m)\u001b[0m\u001b[1;33m\u001b[0m\u001b[1;33m\u001b[0m\u001b[0m\n\u001b[0;32m      3\u001b[0m \u001b[1;32mfor\u001b[0m \u001b[0mi\u001b[0m \u001b[1;32min\u001b[0m \u001b[0mrange\u001b[0m\u001b[1;33m(\u001b[0m\u001b[0mn\u001b[0m\u001b[1;33m)\u001b[0m\u001b[1;33m:\u001b[0m\u001b[1;33m\u001b[0m\u001b[1;33m\u001b[0m\u001b[0m\n\u001b[1;32m----> 4\u001b[1;33m     \u001b[0mname\u001b[0m \u001b[1;33m=\u001b[0m \u001b[0mint\u001b[0m\u001b[1;33m(\u001b[0m\u001b[0minput\u001b[0m\u001b[1;33m(\u001b[0m\u001b[1;34m\"Enter name = \"\u001b[0m\u001b[1;33m)\u001b[0m\u001b[1;33m)\u001b[0m\u001b[1;33m\u001b[0m\u001b[1;33m\u001b[0m\u001b[0m\n\u001b[0m\u001b[0;32m      5\u001b[0m     \u001b[0mphone\u001b[0m \u001b[1;33m=\u001b[0m \u001b[0mint\u001b[0m\u001b[1;33m(\u001b[0m\u001b[0minput\u001b[0m\u001b[1;33m(\u001b[0m\u001b[1;34m\"Enter phone = \"\u001b[0m\u001b[1;33m)\u001b[0m\u001b[1;33m)\u001b[0m\u001b[1;33m\u001b[0m\u001b[1;33m\u001b[0m\u001b[0m\n\u001b[0;32m      6\u001b[0m     \u001b[0ms\u001b[0m \u001b[1;33m=\u001b[0m \u001b[0ms\u001b[0m \u001b[1;33m+\u001b[0m \u001b[0mname\u001b[0m\u001b[1;33m+\u001b[0m \u001b[0mphone\u001b[0m \u001b[1;33m+\u001b[0m \u001b[1;34m'\\n'\u001b[0m\u001b[1;33m\u001b[0m\u001b[1;33m\u001b[0m\u001b[0m\n",
      "\u001b[1;31mValueError\u001b[0m: invalid literal for int() with base 10: 'w'"
     ]
    }
   ],
   "source": [
    "s = str()\n",
    "n= int(input(\"Enter n= \"))\n",
    "for i in range(n):\n",
    "    name = int(input(\"Enter name = \"))\n",
    "    phone = int(input(\"Enter phone = \"))\n",
    "    s = s + name+ phone + '\\n'\n",
    "\n",
    "print(s)\n",
    "    "
   ]
  },
  {
   "cell_type": "code",
   "execution_count": 8,
   "id": "ecb562c0",
   "metadata": {},
   "outputs": [
    {
     "name": "stdout",
     "output_type": "stream",
     "text": [
      "Enter n= 23\n",
      "24\n"
     ]
    }
   ],
   "source": [
    "s=0\n",
    "n=int(input(\"Enter n= \"))\n",
    "for i in range(n+1):\n",
    "    s=s+1\n",
    "print(s)\n"
   ]
  },
  {
   "cell_type": "code",
   "execution_count": 10,
   "id": "28541bde",
   "metadata": {},
   "outputs": [
    {
     "name": "stdout",
     "output_type": "stream",
     "text": [
      "0\n",
      "2\n",
      "4\n",
      "6\n",
      "8\n",
      "10\n",
      "12\n",
      "14\n",
      "16\n",
      "18\n",
      "20\n"
     ]
    }
   ],
   "source": [
    "for i in range(21):\n",
    "    if i %2 <= 0:\n",
    "        print(i)"
   ]
  },
  {
   "cell_type": "code",
   "execution_count": 11,
   "id": "db6c0315",
   "metadata": {},
   "outputs": [
    {
     "name": "stdout",
     "output_type": "stream",
     "text": [
      "5\n",
      "4\n",
      "3\n",
      "2\n",
      "1\n",
      "0\n"
     ]
    }
   ],
   "source": [
    "for i in range(5,-1,-1):\n",
    "    print(i)\n"
   ]
  },
  {
   "cell_type": "code",
   "execution_count": 13,
   "id": "bd4cff6f",
   "metadata": {},
   "outputs": [
    {
     "name": "stdout",
     "output_type": "stream",
     "text": [
      "P HELLO WORLD\n",
      "Y HELLO WORLD\n",
      "T HELLO WORLD\n",
      "H HELLO WORLD\n",
      "O HELLO WORLD\n",
      "N HELLO WORLD\n"
     ]
    }
   ],
   "source": [
    "a=\"PYTHON\"\n",
    "for i in a:\n",
    "    print(i,\"HELLO WORLD\")"
   ]
  },
  {
   "cell_type": "code",
   "execution_count": 19,
   "id": "a2e2e663",
   "metadata": {},
   "outputs": [
    {
     "name": "stdout",
     "output_type": "stream",
     "text": [
      "HELLO WORLD HTIS IS PYTHON"
     ]
    }
   ],
   "source": [
    "a=\"HELLO WORLD HTIS IS PYTHON\"\n",
    "for i in a:\n",
    "    if i != \"\":\n",
    "        print(i,end= \"\")"
   ]
  },
  {
   "cell_type": "code",
   "execution_count": null,
   "id": "2f70e18b",
   "metadata": {},
   "outputs": [],
   "source": []
  }
 ],
 "metadata": {
  "kernelspec": {
   "display_name": "Python 3 (ipykernel)",
   "language": "python",
   "name": "python3"
  },
  "language_info": {
   "codemirror_mode": {
    "name": "ipython",
    "version": 3
   },
   "file_extension": ".py",
   "mimetype": "text/x-python",
   "name": "python",
   "nbconvert_exporter": "python",
   "pygments_lexer": "ipython3",
   "version": "3.9.13"
  }
 },
 "nbformat": 4,
 "nbformat_minor": 5
}
