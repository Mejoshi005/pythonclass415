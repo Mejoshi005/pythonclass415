{
 "cells": [
  {
   "cell_type": "code",
   "execution_count": 6,
   "id": "1488cbbc",
   "metadata": {},
   "outputs": [
    {
     "ename": "SyntaxError",
     "evalue": "invalid syntax (175436817.py, line 2)",
     "output_type": "error",
     "traceback": [
      "\u001b[1;36m  File \u001b[1;32m\"C:\\Users\\PC\\AppData\\Local\\Temp\\ipykernel_5232\\175436817.py\"\u001b[1;36m, line \u001b[1;32m2\u001b[0m\n\u001b[1;33m    if i = \"G, i, r, a ,f ,e\":\u001b[0m\n\u001b[1;37m         ^\u001b[0m\n\u001b[1;31mSyntaxError\u001b[0m\u001b[1;31m:\u001b[0m invalid syntax\n"
     ]
    }
   ],
   "source": [
    "i=input(\"Enter value = \") \n",
    "if i = \"G, i, r, a ,f ,e\":\n",
    "    Print(\"True\") \n",
    "    else:\n",
    "        Print(\"Wrong\") "
   ]
  },
  {
   "cell_type": "code",
   "execution_count": 16,
   "id": "e3cc88cf",
   "metadata": {},
   "outputs": [],
   "source": [
    "list = (1,9)\n"
   ]
  },
  {
   "cell_type": "code",
   "execution_count": 18,
   "id": "eb6dcdc9",
   "metadata": {},
   "outputs": [
    {
     "name": "stdout",
     "output_type": "stream",
     "text": [
      "10\n"
     ]
    }
   ],
   "source": [
    "total = 0\n",
    "for item in list:\n",
    "    total += item\n",
    "print(total)"
   ]
  },
  {
   "cell_type": "code",
   "execution_count": 21,
   "id": "1366235e",
   "metadata": {},
   "outputs": [
    {
     "name": "stdout",
     "output_type": "stream",
     "text": [
      "2\n",
      "18\n"
     ]
    }
   ],
   "source": [
    "pet= 2\n",
    "for item in list:\n",
    "    pet *= item\n",
    "    print(pet)"
   ]
  },
  {
   "cell_type": "code",
   "execution_count": 29,
   "id": "1a8a5c5c",
   "metadata": {},
   "outputs": [
    {
     "name": "stdout",
     "output_type": "stream",
     "text": [
      "7\n",
      "15\n",
      "27\n",
      "49\n"
     ]
    }
   ],
   "source": [
    "list = (-22,4,8,12,22)\n",
    "total = 3\n",
    "for num in list:\n",
    "    if num >= 3:\n",
    "        total = total+num\n",
    "        print(total)\n",
    "    "
   ]
  },
  {
   "cell_type": "code",
   "execution_count": 30,
   "id": "87527a1f",
   "metadata": {},
   "outputs": [],
   "source": [
    "list=(22,33,44,55,66)"
   ]
  },
  {
   "cell_type": "code",
   "execution_count": 36,
   "id": "5a1bcad4",
   "metadata": {
    "scrolled": true
   },
   "outputs": [
    {
     "name": "stdout",
     "output_type": "stream",
     "text": [
      "2.2\n",
      "3.3000000000000003\n",
      "4.4\n",
      "5.5\n",
      "6.6000000000000005\n"
     ]
    }
   ],
   "source": [
    "\n",
    "for num in list:\n",
    "    if num >=10:\n",
    "        total = 0.1*num\n",
    "        print(total)\n",
    "    "
   ]
  },
  {
   "cell_type": "code",
   "execution_count": 37,
   "id": "b8a871e7",
   "metadata": {},
   "outputs": [
    {
     "ename": "NameError",
     "evalue": "name 'x' is not defined",
     "output_type": "error",
     "traceback": [
      "\u001b[1;31m---------------------------------------------------------------------------\u001b[0m",
      "\u001b[1;31mNameError\u001b[0m                                 Traceback (most recent call last)",
      "\u001b[1;32m~\\AppData\\Local\\Temp\\ipykernel_5232\\3821001453.py\u001b[0m in \u001b[0;36m<module>\u001b[1;34m\u001b[0m\n\u001b[0;32m      1\u001b[0m \u001b[1;32mfor\u001b[0m \u001b[0mx\u001b[0m \u001b[1;32min\u001b[0m \u001b[1;33m[\u001b[0m\u001b[1;33m]\u001b[0m\u001b[1;33m:\u001b[0m\u001b[1;33m\u001b[0m\u001b[1;33m\u001b[0m\u001b[0m\n\u001b[0;32m      2\u001b[0m     \u001b[0mprint\u001b[0m\u001b[1;33m(\u001b[0m\u001b[1;34m\"Hello\"\u001b[0m\u001b[1;33m)\u001b[0m\u001b[1;33m\u001b[0m\u001b[1;33m\u001b[0m\u001b[0m\n\u001b[1;32m----> 3\u001b[1;33m \u001b[0mprint\u001b[0m\u001b[1;33m(\u001b[0m\u001b[0mx\u001b[0m\u001b[1;33m)\u001b[0m\u001b[1;33m\u001b[0m\u001b[1;33m\u001b[0m\u001b[0m\n\u001b[0m",
      "\u001b[1;31mNameError\u001b[0m: name 'x' is not defined"
     ]
    }
   ],
   "source": [
    "for x in []:\n",
    "    print(\"Hello\")\n",
    "print(x)   "
   ]
  },
  {
   "cell_type": "code",
   "execution_count": 42,
   "id": "8196173e",
   "metadata": {},
   "outputs": [
    {
     "name": "stdout",
     "output_type": "stream",
     "text": [
      "1  ...next iteration\n",
      "2  ...next iteration\n",
      "3  ...break!\n",
      "3  ...next iteration\n",
      "4  ...next iteration\n",
      "5  ...next iteration\n"
     ]
    }
   ],
   "source": [
    "for item in [1, 2, 3, 4, 5]:\n",
    "    if item == 3:\n",
    "        print(item, \" ...break!\")\n",
    "    print(item, \" ...next iteration\")"
   ]
  },
  {
   "cell_type": "code",
   "execution_count": null,
   "id": "3ae4766b",
   "metadata": {},
   "outputs": [],
   "source": []
  },
  {
   "cell_type": "code",
   "execution_count": null,
   "id": "4ddd7349",
   "metadata": {},
   "outputs": [],
   "source": []
  },
  {
   "cell_type": "code",
   "execution_count": null,
   "id": "ee7a40a6",
   "metadata": {},
   "outputs": [],
   "source": []
  }
 ],
 "metadata": {
  "kernelspec": {
   "display_name": "Python 3 (ipykernel)",
   "language": "python",
   "name": "python3"
  },
  "language_info": {
   "codemirror_mode": {
    "name": "ipython",
    "version": 3
   },
   "file_extension": ".py",
   "mimetype": "text/x-python",
   "name": "python",
   "nbconvert_exporter": "python",
   "pygments_lexer": "ipython3",
   "version": "3.9.13"
  }
 },
 "nbformat": 4,
 "nbformat_minor": 5
}
