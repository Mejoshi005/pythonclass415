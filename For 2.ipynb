{
 "cells": [
  {
   "cell_type": "code",
   "execution_count": null,
   "id": "152c54aa",
   "metadata": {},
   "outputs": [],
   "source": [
    "x = input(\"Enter your name:\")\n",
    "print(\"Hello, \" + x)"
   ]
  },
  {
   "cell_type": "code",
   "execution_count": null,
   "id": "2abc7ab4",
   "metadata": {},
   "outputs": [],
   "source": [
    "a= Sushant\n",
    "b= Joshi\n",
    "print(str(a+b))"
   ]
  },
  {
   "cell_type": "code",
   "execution_count": null,
   "id": "a6e44895",
   "metadata": {},
   "outputs": [],
   "source": [
    "i = 1\n",
    "while i < 6:\n",
    "    print(i)\n",
    "    if (i==3)\n",
    "    break\n",
    "    i+=1\n",
    "   "
   ]
  },
  {
   "cell_type": "code",
   "execution_count": null,
   "id": "adbfe958",
   "metadata": {},
   "outputs": [],
   "source": [
    "color = (\"red\",\"big\",\"tasty\")\n",
    "fruits =(\"apple\",\"banana\",\"mango\")\n",
    "for a in color:\n",
    "    for b in friuts:\n",
    "        print(a,b) \n"
   ]
  },
  {
   "cell_type": "code",
   "execution_count": null,
   "id": "fa300db1",
   "metadata": {},
   "outputs": [],
   "source": [
    "def my_function(fname):"
   ]
  },
  {
   "cell_type": "code",
   "execution_count": 1,
   "id": "5e0face8",
   "metadata": {},
   "outputs": [
    {
     "name": "stdout",
     "output_type": "stream",
     "text": [
      "0\n",
      "1\n",
      "2\n",
      "3\n",
      "4\n",
      "5\n"
     ]
    }
   ],
   "source": [
    "for i in range(10):\n",
    "    if i ==6:\n",
    "        break\n",
    "    print(i)"
   ]
  },
  {
   "cell_type": "code",
   "execution_count": null,
   "id": "3228da4c",
   "metadata": {},
   "outputs": [],
   "source": []
  }
 ],
 "metadata": {
  "kernelspec": {
   "display_name": "Python 3 (ipykernel)",
   "language": "python",
   "name": "python3"
  },
  "language_info": {
   "codemirror_mode": {
    "name": "ipython",
    "version": 3
   },
   "file_extension": ".py",
   "mimetype": "text/x-python",
   "name": "python",
   "nbconvert_exporter": "python",
   "pygments_lexer": "ipython3",
   "version": "3.9.13"
  }
 },
 "nbformat": 4,
 "nbformat_minor": 5
}
