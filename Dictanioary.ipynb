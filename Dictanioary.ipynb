{
 "cells": [
  {
   "cell_type": "code",
   "execution_count": null,
   "id": "ee90a889",
   "metadata": {},
   "outputs": [],
   "source": [
    "#dictonary\n",
    "-indexed\n",
    "-Mulitple and Duplicate values\n",
    "-Ordered\n",
    "-Mutable\n"
   ]
  },
  {
   "cell_type": "code",
   "execution_count": 3,
   "id": "4dc6edb8",
   "metadata": {},
   "outputs": [
    {
     "name": "stdout",
     "output_type": "stream",
     "text": [
      "{'a': 'Apple', 'b': 'Ball', 'c': 'Cat'}\n",
      "<class 'dict'>\n"
     ]
    }
   ],
   "source": [
    "#a = {<key>:<value>,<key>:<value>,...}\n",
    "d = {'a':'Apple','b':'Ball','c':'Cat'}\n",
    "print(d)\n",
    "print(type(d))"
   ]
  },
  {
   "cell_type": "code",
   "execution_count": 5,
   "id": "f99ea831",
   "metadata": {},
   "outputs": [
    {
     "name": "stdout",
     "output_type": "stream",
     "text": [
      "Ram\n",
      "10\n",
      "Nepal\n"
     ]
    }
   ],
   "source": [
    "info = {'name':'Ram','age':'10','add':'Nepal'}\n",
    "print(info['name'])\n",
    "print(info['age'])\n",
    "print(info['add'])\n",
    "           \n"
   ]
  },
  {
   "cell_type": "code",
   "execution_count": 6,
   "id": "9e5741fe",
   "metadata": {},
   "outputs": [
    {
     "name": "stdout",
     "output_type": "stream",
     "text": [
      "{'a': 'Apple', 'b': 'Ball', 'c': 'Cat', 'A': 'Apple'}\n"
     ]
    }
   ],
   "source": [
    "d = {'a':'Apple','b':'Ball','c':'Cat','A':'Apple'}\n",
    "print(d)\n"
   ]
  },
  {
   "cell_type": "code",
   "execution_count": 7,
   "id": "b45b166f",
   "metadata": {},
   "outputs": [
    {
     "name": "stdout",
     "output_type": "stream",
     "text": [
      "{'a': 'apple', 'b': 'Ball', 'c': 'Cat'}\n"
     ]
    }
   ],
   "source": [
    "d = {'a':'Apple','b':'Ball','c':'Cat','a':'apple'}\n",
    "print(d)"
   ]
  },
  {
   "cell_type": "code",
   "execution_count": 8,
   "id": "674178a1",
   "metadata": {},
   "outputs": [
    {
     "name": "stdout",
     "output_type": "stream",
     "text": [
      "{'a': 'Apple', 'b': 'Ball', 'c': 'Cat'}\n"
     ]
    }
   ],
   "source": [
    "#d=dict\n",
    "d={}\n",
    "d['a'] = 'Apple'\n",
    "d['b'] = 'Ball'\n",
    "d['c'] = 'Cat'\n",
    "print(d)\n"
   ]
  },
  {
   "cell_type": "code",
   "execution_count": null,
   "id": "3c4d9c8a",
   "metadata": {},
   "outputs": [],
   "source": [
    "info={}\n",
    "n=int(input(\"Enter n=\"))\n",
    "for i in range(n):\n",
    "    name = input(\"Enter name=\")\n",
    "    phone = input(\"Enter phone = \")\n",
    "    info[name] = phone\n",
    "    \n",
    "print(info)"
   ]
  },
  {
   "cell_type": "code",
   "execution_count": null,
   "id": "ecf477de",
   "metadata": {
    "scrolled": true
   },
   "outputs": [],
   "source": [
    "d=123\n",
    "print(d)"
   ]
  },
  {
   "cell_type": "code",
   "execution_count": null,
   "id": "b3c2d3cb",
   "metadata": {},
   "outputs": [],
   "source": [
    "l = []\n",
    "a = {'Ram':9846030339,'Shyam':9856034919}\n",
    "for i in a.items():\n",
    "    l.append(i)\n",
    "    \n",
    "print(l)"
   ]
  },
  {
   "cell_type": "code",
   "execution_count": null,
   "id": "270fc64a",
   "metadata": {},
   "outputs": [],
   "source": [
    "a = {'Ram':9846030339,'Shyam':9856034919}\n",
    "d = {'Hari':9811291145}\n",
    "a.update(d)\n",
    "a"
   ]
  },
  {
   "cell_type": "code",
   "execution_count": null,
   "id": "fe43b964",
   "metadata": {},
   "outputs": [],
   "source": [
    "list inside dict\n"
   ]
  },
  {
   "cell_type": "code",
   "execution_count": null,
   "id": "8109db9f",
   "metadata": {},
   "outputs": [],
   "source": [
    "a = {'Ram': [9846030339,9834567589],\n",
    "     'Shyam': [9856034919,9834567589],\n",
    "     'Hari': [9811291145,9834567589]}\n",
    "print(a)\n"
   ]
  },
  {
   "cell_type": "code",
   "execution_count": null,
   "id": "bf97ff56",
   "metadata": {},
   "outputs": [],
   "source": []
  },
  {
   "cell_type": "code",
   "execution_count": null,
   "id": "29763510",
   "metadata": {},
   "outputs": [],
   "source": []
  }
 ],
 "metadata": {
  "kernelspec": {
   "display_name": "Python 3 (ipykernel)",
   "language": "python",
   "name": "python3"
  },
  "language_info": {
   "codemirror_mode": {
    "name": "ipython",
    "version": 3
   },
   "file_extension": ".py",
   "mimetype": "text/x-python",
   "name": "python",
   "nbconvert_exporter": "python",
   "pygments_lexer": "ipython3",
   "version": "3.9.13"
  }
 },
 "nbformat": 4,
 "nbformat_minor": 5
}
