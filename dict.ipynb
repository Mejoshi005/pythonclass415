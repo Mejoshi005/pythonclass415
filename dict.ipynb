{
 "cells": [
  {
   "cell_type": "code",
   "execution_count": 1,
   "id": "a6a87d12",
   "metadata": {},
   "outputs": [
    {
     "name": "stdout",
     "output_type": "stream",
     "text": [
      "Enter n=2\n",
      "Enter name =9846039339\n",
      "Enter ntc no =9802490945\n",
      "Enter ncell no =9846039339\n",
      "Enter name =b\n",
      "Enter ntc no =9867556677\n",
      "Enter ncell no =9800776655\n",
      "{'9846039339': [9802490945, 9846039339], 'b': [9867556677, 9800776655]}\n"
     ]
    }
   ],
   "source": [
    "info = {}\n",
    "n = int(input(\"Enter n=\"))\n",
    "for i in range(n):\n",
    "    name = input(\"Enter name =\")\n",
    "    ntc = int(input(\"Enter ntc no =\"))\n",
    "    ncell = int(input(\"Enter ncell no =\"))\n",
    "    info[name] = [ntc,ncell]\n",
    "\n",
    "print(info)\n",
    "\n"
   ]
  },
  {
   "cell_type": "code",
   "execution_count": 3,
   "id": "45486efb",
   "metadata": {},
   "outputs": [
    {
     "name": "stdout",
     "output_type": "stream",
     "text": [
      "Enter n = 1\n",
      "Enter name= we\n",
      "Enter age =21\n",
      "Enter add = 2\n",
      "{'Name': ['we'], 'Add': ['2'], 'Age': [21]}\n"
     ]
    }
   ],
   "source": [
    "info = {'Name':[],'Add':[],'Age':[]}\n",
    "n = int(input(\"Enter n = \"))\n",
    "for i in range(n):\n",
    "    name = input(\"Enter name= \")\n",
    "    age = int(input(\"Enter age =\"))\n",
    "    add = input(\"Enter add = \")\n",
    "    info['Name'].append(name)\n",
    "    info['Add'].append(add)\n",
    "    info['Age'].append(age)\n",
    "    \n",
    "print(info)\n",
    "\n",
    "    "
   ]
  },
  {
   "cell_type": "code",
   "execution_count": 5,
   "id": "e1bcbe2c",
   "metadata": {},
   "outputs": [
    {
     "data": {
      "text/plain": [
       "{'Name': ['Ram', 'Shyam'], 'Age': [78, 34], 'Add': ['Kathmandu', 'Bhaktapur']}"
      ]
     },
     "execution_count": 5,
     "metadata": {},
     "output_type": "execute_result"
    }
   ],
   "source": [
    "a = {'Name':['Ram'],'Age':[78],'Add':['Kathmandu']}\n",
    "a['Name'].append('Shyam')\n",
    "a['Age'].append(34)\n",
    "a['Add'].append('Bhaktapur')\n",
    "a"
   ]
  },
  {
   "cell_type": "code",
   "execution_count": 8,
   "id": "37ceb5d9",
   "metadata": {},
   "outputs": [
    {
     "data": {
      "text/plain": [
       "{'Name': ['Ram', 'Shyam'], 'Age': [78, 34], 'Add': ['Bhaktapur']}"
      ]
     },
     "execution_count": 8,
     "metadata": {},
     "output_type": "execute_result"
    }
   ],
   "source": [
    "d = {'Name':['Ram','Shyam'],'Age':[78,34],'Add':['Kathmandu','Bhaktapur']}\n",
    "del d['Add'][0]\n",
    "d"
   ]
  },
  {
   "cell_type": "code",
   "execution_count": 11,
   "id": "cae53a73",
   "metadata": {},
   "outputs": [
    {
     "data": {
      "text/plain": [
       "{'Name': ['Ram', 'Shyam'], 'Age': [78, 34], 'Add': ['Jhapa', 'Bhaktapur']}"
      ]
     },
     "execution_count": 11,
     "metadata": {},
     "output_type": "execute_result"
    }
   ],
   "source": [
    "d = {'Name':['Ram','Shyam'],'Age':[78,34],'Add':['Kathmandu','Bhaktapur']}\n",
    "d['Add'][0] = \"Jhapa\"\n",
    "d"
   ]
  },
  {
   "cell_type": "code",
   "execution_count": null,
   "id": "b2fcab6f",
   "metadata": {},
   "outputs": [],
   "source": [
    "#dict inside list\n",
    "l = [{'name':'Ram'.'age':23,'add':'Kathmandu'},\n",
    "    {name':'Shyam'.'age':33,'add':'Kathmandu}]"
   ]
  },
  {
   "cell_type": "code",
   "execution_count": null,
   "id": "7e4f96c4",
   "metadata": {},
   "outputs": [],
   "source": []
  },
  {
   "cell_type": "code",
   "execution_count": null,
   "id": "4c39c569",
   "metadata": {},
   "outputs": [],
   "source": []
  },
  {
   "cell_type": "code",
   "execution_count": null,
   "id": "20f2b769",
   "metadata": {},
   "outputs": [],
   "source": []
  },
  {
   "cell_type": "code",
   "execution_count": null,
   "id": "89c5c221",
   "metadata": {},
   "outputs": [],
   "source": []
  }
 ],
 "metadata": {
  "kernelspec": {
   "display_name": "Python 3 (ipykernel)",
   "language": "python",
   "name": "python3"
  },
  "language_info": {
   "codemirror_mode": {
    "name": "ipython",
    "version": 3
   },
   "file_extension": ".py",
   "mimetype": "text/x-python",
   "name": "python",
   "nbconvert_exporter": "python",
   "pygments_lexer": "ipython3",
   "version": "3.9.13"
  }
 },
 "nbformat": 4,
 "nbformat_minor": 5
}
