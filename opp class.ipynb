{
 "cells": [
  {
   "cell_type": "code",
   "execution_count": 1,
   "id": "bc37a7de",
   "metadata": {},
   "outputs": [
    {
     "name": "stdout",
     "output_type": "stream",
     "text": [
      "Hello World\n"
     ]
    }
   ],
   "source": [
    "class Hello:\n",
    "    print(\"Hello World\")\n",
    "    \n",
    "obj = Hello()"
   ]
  },
  {
   "cell_type": "code",
   "execution_count": 4,
   "id": "90200595",
   "metadata": {},
   "outputs": [
    {
     "ename": "TypeError",
     "evalue": "Hello() takes 0 positional arguments but 1 was given",
     "output_type": "error",
     "traceback": [
      "\u001b[1;31m---------------------------------------------------------------------------\u001b[0m",
      "\u001b[1;31mTypeError\u001b[0m                                 Traceback (most recent call last)",
      "\u001b[1;32m~\\AppData\\Local\\Temp\\ipykernel_8644\\3873092589.py\u001b[0m in \u001b[0;36m<module>\u001b[1;34m\u001b[0m\n\u001b[0;32m      4\u001b[0m \u001b[1;33m\u001b[0m\u001b[0m\n\u001b[0;32m      5\u001b[0m \u001b[0mobj\u001b[0m \u001b[1;33m=\u001b[0m \u001b[0mHello\u001b[0m\u001b[1;33m(\u001b[0m\u001b[1;33m)\u001b[0m\u001b[1;33m\u001b[0m\u001b[1;33m\u001b[0m\u001b[0m\n\u001b[1;32m----> 6\u001b[1;33m \u001b[0mobj\u001b[0m\u001b[1;33m.\u001b[0m\u001b[0mHello\u001b[0m\u001b[1;33m(\u001b[0m\u001b[1;33m)\u001b[0m\u001b[1;33m\u001b[0m\u001b[1;33m\u001b[0m\u001b[0m\n\u001b[0m",
      "\u001b[1;31mTypeError\u001b[0m: Hello() takes 0 positional arguments but 1 was given"
     ]
    }
   ],
   "source": [
    "class Hello:\n",
    "    def Hello():\n",
    "        print(\"Hello World\")\n",
    "        \n",
    "obj = Hello()\n",
    "obj.Hello()"
   ]
  },
  {
   "cell_type": "code",
   "execution_count": 6,
   "id": "e02a6ab4",
   "metadata": {},
   "outputs": [
    {
     "name": "stdout",
     "output_type": "stream",
     "text": [
      "Hello World\n"
     ]
    }
   ],
   "source": [
    "class Hello:\n",
    "    def hello(self):\n",
    "        print(\"Hello World\")\n",
    "        \n",
    "obj = Hello()\n",
    "obj.hello()"
   ]
  },
  {
   "cell_type": "code",
   "execution_count": 7,
   "id": "3fb3fa9b",
   "metadata": {},
   "outputs": [
    {
     "name": "stdout",
     "output_type": "stream",
     "text": [
      "Hello World\n"
     ]
    }
   ],
   "source": [
    "class Hello:\n",
    "    @staticmethod\n",
    "    def hello():\n",
    "        print(\"Hello World\")\n",
    "        \n",
    "obj = Hello()\n",
    "obj.hello()"
   ]
  },
  {
   "cell_type": "code",
   "execution_count": 9,
   "id": "887be0f1",
   "metadata": {},
   "outputs": [
    {
     "name": "stdout",
     "output_type": "stream",
     "text": [
      "20\n"
     ]
    }
   ],
   "source": [
    "class Cal: \n",
    "    def area(self):\n",
    "        l = 10\n",
    "        b = 2\n",
    "        a = l*b\n",
    "        print(a)\n",
    "        \n",
    "obj = Cal() \n",
    "obj.area()"
   ]
  },
  {
   "cell_type": "code",
   "execution_count": 11,
   "id": "6f47a29a",
   "metadata": {},
   "outputs": [
    {
     "name": "stdout",
     "output_type": "stream",
     "text": [
      "20\n",
      "100\n"
     ]
    }
   ],
   "source": [
    "class Cal: \n",
    "    def area(self):\n",
    "        l = 10\n",
    "        b = 2\n",
    "        a = l*b\n",
    "        print(a)\n",
    "    def volume(self):\n",
    "        l = 10\n",
    "        b = 5\n",
    "        h = 2\n",
    "        v = l*b*h\n",
    "        print(v)\n",
    "        \n",
    "        \n",
    "obj = Cal() \n",
    "obj.area()\n",
    "obj.volume()"
   ]
  },
  {
   "cell_type": "code",
   "execution_count": 14,
   "id": "4982bd0a",
   "metadata": {},
   "outputs": [
    {
     "name": "stdout",
     "output_type": "stream",
     "text": [
      "Enter l= 10\n",
      "Enter b =5\n",
      "Enter h =4\n",
      "50\n",
      "200\n"
     ]
    }
   ],
   "source": [
    "class Cal: \n",
    "    def area(self,l,b):\n",
    "        a = l*b\n",
    "        print(a)\n",
    "    def volume(self,l,b,h):\n",
    "        v = l*b*h\n",
    "        print(v)\n",
    "        \n",
    "l = int(input(\"Enter l= \"))\n",
    "b = int(input(\"Enter b =\"))\n",
    "h = int(input(\"Enter h =\"))\n",
    "obj = Cal() \n",
    "obj.area(l,b)\n",
    "obj.volume(l,b,h)"
   ]
  },
  {
   "cell_type": "code",
   "execution_count": 17,
   "id": "afa2ea2b",
   "metadata": {},
   "outputs": [
    {
     "name": "stdout",
     "output_type": "stream",
     "text": [
      "Enter l= 5\n",
      "Enter b =4\n",
      "Enter h =3\n",
      "20\n",
      "60\n"
     ]
    }
   ],
   "source": [
    "class Cal: \n",
    "    def area(self,l,b):\n",
    "        a = l*b\n",
    "        print(a)\n",
    "class Volume:\n",
    "    def volume(self,l,b,h):\n",
    "        v = l*b*h\n",
    "        print(v)\n",
    "        \n",
    "l = int(input(\"Enter l= \"))\n",
    "b = int(input(\"Enter b =\"))\n",
    "h = int(input(\"Enter h =\"))\n",
    "obj = Cal()\n",
    "obj1 = Volume()\n",
    "obj.area(l,b)\n",
    "obj1.volume(l,b,h)"
   ]
  },
  {
   "cell_type": "code",
   "execution_count": 20,
   "id": "efa40792",
   "metadata": {},
   "outputs": [
    {
     "name": "stdout",
     "output_type": "stream",
     "text": [
      "Enter l= 5\n",
      "Enter b =4\n",
      "Enter h =2\n",
      "20\n",
      "40\n"
     ]
    }
   ],
   "source": [
    "class Cal: \n",
    "    def __init__(f,l,b,h):\n",
    "        f.l = l\n",
    "        f.b = b\n",
    "        f.h = h\n",
    "        \n",
    "        \n",
    "    def area(f):\n",
    "        a = f.l*f.b\n",
    "        print(a)\n",
    "    def volume(f):\n",
    "        v = f.l*f.b*f.h\n",
    "        print(v)\n",
    "        \n",
    "l = int(input(\"Enter l= \"))\n",
    "b = int(input(\"Enter b =\"))\n",
    "h = int(input(\"Enter h =\"))\n",
    "obj = Cal(l,b,h) \n",
    "obj.area()\n",
    "obj.volume()"
   ]
  },
  {
   "cell_type": "code",
   "execution_count": 22,
   "id": "ab6abf96",
   "metadata": {},
   "outputs": [
    {
     "name": "stdout",
     "output_type": "stream",
     "text": [
      "Enter l= 5\n",
      "Enter b =4\n",
      "Enter h =3\n",
      "120\n",
      "60\n"
     ]
    }
   ],
   "source": [
    "class Cal: \n",
    "    def __init__(f,l,b,h):\n",
    "        f.l = l\n",
    "        f.b = b\n",
    "        f.h = h\n",
    "        \n",
    "    @staticmethod \n",
    "    def area(l,b):\n",
    "        a1 = l*b\n",
    "        print(a1)\n",
    "    def volume(f):\n",
    "        v = f.l*f.b*f.h\n",
    "        print(v)\n",
    "        \n",
    "l = int(input(\"Enter l= \"))\n",
    "b = int(input(\"Enter b =\"))\n",
    "h = int(input(\"Enter h =\"))\n",
    "obj = Cal(l,b,h) \n",
    "obj.area(10,12)\n",
    "obj.volume()"
   ]
  },
  {
   "cell_type": "code",
   "execution_count": 3,
   "id": "6d185a07",
   "metadata": {},
   "outputs": [
    {
     "name": "stdout",
     "output_type": "stream",
     "text": [
      "Enter Name = ram\n",
      "Enter age =23\n",
      "Enter add = grk\n",
      "Hello World I am ram. I am from 23.I am grk\n",
      "ram\n",
      "23\n",
      "grk\n"
     ]
    }
   ],
   "source": [
    "class Info:\n",
    "    def __init__(self,name,age,add):\n",
    "        self.name = name\n",
    "        self.age = age\n",
    "        self.add = add\n",
    "    def info(self):\n",
    "        return f\"Hello World I am {self.name}. I am from {self.add}.I am {self.age}\"\n",
    "    \n",
    "name = input(\"Enter Name = \")\n",
    "age = int(input(\"Enter age =\"))\n",
    "add = input(\"Enter add = \")\n",
    "\n",
    "obj = Info(name,add,age)\n",
    "print(obj.info())\n",
    "print(obj.name)\n",
    "print(obj.add)\n",
    "print(obj.age)\n",
    "\n"
   ]
  },
  {
   "cell_type": "code",
   "execution_count": 4,
   "id": "99c669b1",
   "metadata": {},
   "outputs": [
    {
     "name": "stdout",
     "output_type": "stream",
     "text": [
      "Enter name = sj\n",
      "Enter add = 23\n",
      "Enter age = 23\n",
      "Hello World I am sj. I am from 23. I am 23\n",
      "sj\n",
      "23\n",
      "23\n"
     ]
    }
   ],
   "source": [
    "class Info:\n",
    "    def __init__(self,name,age,add):\n",
    "        self.name =name\n",
    "        self.age = age\n",
    "        self.add = add\n",
    "    def info(self):\n",
    "        return f\"Hello World I am {self.name}. I am from {self.add}. I am {self.age}\"\n",
    "    \n",
    "name = input(\"Enter name = \")\n",
    "add = input(\"Enter add = \")\n",
    "age = int(input(\"Enter age = \"))\n",
    "\n",
    "obj = Info(name,age,add)\n",
    "print(obj.info())\n",
    "print(obj.name)\n",
    "print(obj.age)\n",
    "print(obj.add)"
   ]
  },
  {
   "cell_type": "code",
   "execution_count": null,
   "id": "59f0fd13",
   "metadata": {},
   "outputs": [],
   "source": []
  },
  {
   "cell_type": "code",
   "execution_count": null,
   "id": "9dd08c4a",
   "metadata": {},
   "outputs": [],
   "source": []
  },
  {
   "cell_type": "code",
   "execution_count": null,
   "id": "2e604963",
   "metadata": {},
   "outputs": [],
   "source": []
  },
  {
   "cell_type": "code",
   "execution_count": null,
   "id": "11e8447b",
   "metadata": {},
   "outputs": [],
   "source": []
  }
 ],
 "metadata": {
  "kernelspec": {
   "display_name": "Python 3 (ipykernel)",
   "language": "python",
   "name": "python3"
  },
  "language_info": {
   "codemirror_mode": {
    "name": "ipython",
    "version": 3
   },
   "file_extension": ".py",
   "mimetype": "text/x-python",
   "name": "python",
   "nbconvert_exporter": "python",
   "pygments_lexer": "ipython3",
   "version": "3.9.13"
  }
 },
 "nbformat": 4,
 "nbformat_minor": 5
}
