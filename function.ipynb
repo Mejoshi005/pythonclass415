{
 "cells": [
  {
   "cell_type": "code",
   "execution_count": null,
   "id": "a377ef83",
   "metadata": {},
   "outputs": [],
   "source": [
    "#pre defiend function\n",
    "print() type(), int(), str(), float()"
   ]
  },
  {
   "cell_type": "code",
   "execution_count": null,
   "id": "da2c297b",
   "metadata": {},
   "outputs": [],
   "source": [
    "#user defined function\n",
    "#def function_name():\n",
    "#operations:\n",
    "\n",
    "#function_name()\n"
   ]
  },
  {
   "cell_type": "code",
   "execution_count": 2,
   "id": "bc59c573",
   "metadata": {},
   "outputs": [
    {
     "name": "stdout",
     "output_type": "stream",
     "text": [
      "Hello World\n",
      "Hello World\n"
     ]
    }
   ],
   "source": [
    "def hello():\n",
    "    print(\"Hello World\")\n",
    "    \n",
    "hello()\n",
    "hello()"
   ]
  },
  {
   "cell_type": "code",
   "execution_count": 4,
   "id": "0d07db2e",
   "metadata": {},
   "outputs": [
    {
     "name": "stdout",
     "output_type": "stream",
     "text": [
      "Enter l= 2\n",
      "Enter b= 4\n",
      "8\n",
      "Enter l= 56\n",
      "Enter b= 78\n",
      "4368\n"
     ]
    }
   ],
   "source": [
    "def cal():\n",
    "    l=int(input(\"Enter l= \")) #local Variable\n",
    "    b=int(input(\"Enter b= \")) #local Variable\n",
    "    a=l*b\n",
    "    print(a)\n",
    "    \n",
    "cal()\n",
    "cal()"
   ]
  },
  {
   "cell_type": "code",
   "execution_count": null,
   "id": "34574fce",
   "metadata": {},
   "outputs": [],
   "source": [
    "def cal():\n",
    "    a=l*b\n",
    "    print(a)\n",
    "l=int(input(\"Enter l= \")) #global Variable\n",
    "b=int(input(\"Enter b= \")) #global Variable\n",
    "cal()"
   ]
  },
  {
   "cell_type": "code",
   "execution_count": null,
   "id": "452257bd",
   "metadata": {},
   "outputs": [],
   "source": [
    "#Argument return type\n",
    "function without argument and  no return type\n",
    "function with argument and  no return type\n",
    "function without argument and  return type\n",
    "function with argument and return type"
   ]
  },
  {
   "cell_type": "code",
   "execution_count": 6,
   "id": "9e136d0a",
   "metadata": {},
   "outputs": [
    {
     "name": "stdout",
     "output_type": "stream",
     "text": [
      "Enter l= 22\n",
      "Enter b= 33\n",
      "726\n"
     ]
    }
   ],
   "source": [
    "#function with argument and  no return type\n",
    "def cal(x,y): #parameter\n",
    "    a=x*y\n",
    "    print(a)\n",
    "    \n",
    "l=int(input(\"Enter l= \")) #global Variable\n",
    "b=int(input(\"Enter b= \")) #global Variable\n",
    "cal(l,b) # argument"
   ]
  },
  {
   "cell_type": "code",
   "execution_count": 7,
   "id": "f8802151",
   "metadata": {},
   "outputs": [
    {
     "name": "stdout",
     "output_type": "stream",
     "text": [
      "Enter l= 3\n",
      "Enter b= 4\n",
      "Enter h= 5\n",
      "12\n",
      "60\n"
     ]
    }
   ],
   "source": [
    "def area(x,y): #parameter\n",
    "    a=x*y\n",
    "    print(a)\n",
    "def volume(x,y,z):#parameter\n",
    "    v=x*y*z\n",
    "    print(v)\n",
    "    \n",
    "l=int(input(\"Enter l= \")) #global Variable\n",
    "b=int(input(\"Enter b= \"))#global Variable\n",
    "h=int(input(\"Enter h= \"))#global Variable\n",
    "area(l,b) # argument\n",
    "volume(l,b,h) # argument"
   ]
  },
  {
   "cell_type": "code",
   "execution_count": 11,
   "id": "2c567631",
   "metadata": {},
   "outputs": [
    {
     "name": "stdout",
     "output_type": "stream",
     "text": [
      "c\n",
      "c++\n",
      "PYTHON\n",
      "PYTHON\n"
     ]
    }
   ],
   "source": [
    "def language(lan= \"PYTHON\"):\n",
    "    print(lan)\n",
    "    \n",
    "language(\"c\")\n",
    "language(\"c++\")\n",
    "language(\"PYTHON\")\n",
    "language()\n",
    "\n"
   ]
  },
  {
   "cell_type": "code",
   "execution_count": 27,
   "id": "d5848504",
   "metadata": {},
   "outputs": [
    {
     "name": "stdout",
     "output_type": "stream",
     "text": [
      "ram age\n",
      "unknown 18\n"
     ]
    }
   ],
   "source": [
    "def info(name= \"unknown\",age = 18):\n",
    "    print(name,age)\n",
    "    \n",
    "info(\"ram\",\"age\")\n",
    "info()\n"
   ]
  },
  {
   "cell_type": "code",
   "execution_count": 28,
   "id": "31acda19",
   "metadata": {},
   "outputs": [
    {
     "name": "stdout",
     "output_type": "stream",
     "text": [
      "Hello World\n"
     ]
    }
   ],
   "source": [
    "#return type function\n",
    "def Hello():\n",
    "    return\"Hello\"\n",
    "\n",
    "hello()\n"
   ]
  },
  {
   "cell_type": "code",
   "execution_count": 33,
   "id": "ec033511",
   "metadata": {},
   "outputs": [
    {
     "name": "stdout",
     "output_type": "stream",
     "text": [
      "Hello World\n",
      "None\n"
     ]
    }
   ],
   "source": [
    "#return type function\n",
    "def Hello():\n",
    "    return\"Hello\"\n",
    "\n",
    "x= hello()\n",
    "print(x)"
   ]
  },
  {
   "cell_type": "code",
   "execution_count": 34,
   "id": "37fc1e60",
   "metadata": {},
   "outputs": [
    {
     "name": "stdout",
     "output_type": "stream",
     "text": [
      "Enter l= 2\n",
      "Enter b= 22\n",
      "Enter h= 3\n",
      "Volume =  132\n"
     ]
    }
   ],
   "source": [
    "#function with argument and return type\n",
    "def area(x,y):\n",
    "    a=x*y\n",
    "    return a\n",
    "l = int(input(\"Enter l= \"))\n",
    "b = int(input(\"Enter b= \"))\n",
    "h = int(input(\"Enter h= \"))\n",
    "ar =area(l,b)\n",
    "v = ar*h\n",
    "print(\"Volume = \",v)\n"
   ]
  },
  {
   "cell_type": "code",
   "execution_count": 38,
   "id": "ddc924a3",
   "metadata": {},
   "outputs": [
    {
     "name": "stdout",
     "output_type": "stream",
     "text": [
      "Enter l= 2\n",
      "Enter b= 3\n",
      "Enter h= 4\n",
      "Volume =  24\n",
      "Area =  44\n"
     ]
    }
   ],
   "source": [
    "def area(x,y):\n",
    "    a=x*y\n",
    "    return a\n",
    "def volume(x,y,z):\n",
    "    ar = area(l,b)\n",
    "    v = ar*h\n",
    "    return v\n",
    "l = int(input(\"Enter l= \"))\n",
    "b = int(input(\"Enter b= \"))\n",
    "h = int(input(\"Enter h= \"))\n",
    "vo = volume(l,b,h)\n",
    "print(\"Volume = \",vo)\n",
    "print(\"Area = \",ar)"
   ]
  },
  {
   "cell_type": "code",
   "execution_count": 40,
   "id": "cf8b78ff",
   "metadata": {},
   "outputs": [
    {
     "name": "stdout",
     "output_type": "stream",
     "text": [
      "Enter l= 2\n",
      "Enter b= 3\n",
      "Enter h= 4\n",
      "Volume =  24\n"
     ]
    }
   ],
   "source": [
    "def area(x,y):\n",
    "    a=x*y\n",
    "    return a\n",
    "def volume(x,y,z):\n",
    "    ar = area(l,b)\n",
    "    v = ar*h\n",
    "    return v\n",
    "l = int(input(\"Enter l= \"))\n",
    "b = int(input(\"Enter b= \"))\n",
    "h = int(input(\"Enter h= \"))\n",
    "vo = volume(l,b,h)\n",
    "ar = area(l,b) \n",
    "print(\"Volume = \",vo)\n"
   ]
  },
  {
   "cell_type": "code",
   "execution_count": null,
   "id": "ff51dfd5",
   "metadata": {},
   "outputs": [],
   "source": [
    "def cal(x,y,z):\n",
    "    a=x*y\n",
    "    y=a*z\n",
    "    return a,v\n",
    "l = int(input(\"Enter l= \"))\n",
    "b = int(input(\"Enter b= \"))\n",
    "h = int(input(\"Enter h= \"))\n",
    "av = cal(l,b,h) \n",
    "print(av)\n"
   ]
  },
  {
   "cell_type": "code",
   "execution_count": null,
   "id": "0e99679a",
   "metadata": {},
   "outputs": [],
   "source": [
    "area,volume=av\n",
    "print(area,volume)"
   ]
  },
  {
   "cell_type": "code",
   "execution_count": null,
   "id": "d1745aba",
   "metadata": {},
   "outputs": [],
   "source": [
    "def cal(x,y,z):\n",
    "    a=x*y\n",
    "    y=a*z\n",
    "    return a,v\n",
    "l = int(input(\"Enter l= \"))\n",
    "b = int(input(\"Enter b= \"))\n",
    "h = int(input(\"Enter h= \"))\n",
    "av = cal(l,b,h) \n",
    "print(av)"
   ]
  },
  {
   "cell_type": "code",
   "execution_count": null,
   "id": "c91731cf",
   "metadata": {},
   "outputs": [],
   "source": [
    "def hello():\n",
    "    print(\"Hello\")\n",
    "    hello()\n"
   ]
  },
  {
   "cell_type": "code",
   "execution_count": null,
   "id": "fa29c364",
   "metadata": {},
   "outputs": [],
   "source": [
    "def cal():\n",
    "    p = int(input(\"Enter p = \"))\n",
    "    t = float(input(\"Enter t= \"))\n",
    "    r = float(input(\"Enter r= \"))\n",
    "    i= p*t*r/100\n",
    "    print(i)\n",
    "    x = input(\"Press enter for more cal\")\n",
    "    if x == \"\":\n",
    "        cal()\n",
    "cal()"
   ]
  }
 ],
 "metadata": {
  "kernelspec": {
   "display_name": "Python 3 (ipykernel)",
   "language": "python",
   "name": "python3"
  },
  "language_info": {
   "codemirror_mode": {
    "name": "ipython",
    "version": 3
   },
   "file_extension": ".py",
   "mimetype": "text/x-python",
   "name": "python",
   "nbconvert_exporter": "python",
   "pygments_lexer": "ipython3",
   "version": "3.9.13"
  }
 },
 "nbformat": 4,
 "nbformat_minor": 5
}
