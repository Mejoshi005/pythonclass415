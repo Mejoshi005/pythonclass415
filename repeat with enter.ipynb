{
 "cells": [
  {
   "cell_type": "markdown",
   "id": "2f304af2",
   "metadata": {},
   "source": [
    "def cal():\n",
    "\n",
    "    p = input(\"Enter p = \")\n",
    "    t = float(input(\"Enter t= \"))\n",
    "    r = flaot(input(\"Enter r= \"))\n",
    "    i= p*t*r/100\n",
    "\n",
    "    print(i)\n",
    "\n",
    "    x = input(\"Press enter for more cal\")\n",
    "\n",
    "    if x == \"\":\n",
    "\n",
    "        cal()\n",
    "\n",
    "cal()"
   ]
  },
  {
   "cell_type": "code",
   "execution_count": 1,
   "id": "7d9e5cd0",
   "metadata": {},
   "outputs": [
    {
     "name": "stdout",
     "output_type": "stream",
     "text": [
      "Enter p = 3\n",
      "Enter t= 4\n",
      "Enter r= 5\n",
      "0.6\n",
      "Press enter for more cal\n",
      "Enter p = 2\n",
      "Enter t= 34\n",
      "Enter r= 5\n",
      "3.4\n",
      "Press enter for more cal2\n"
     ]
    }
   ],
   "source": [
    "def cal():\n",
    "    p = int(input(\"Enter p = \"))\n",
    "    t = float(input(\"Enter t= \"))\n",
    "    r = float(input(\"Enter r= \"))\n",
    "    i = p*t*r/100\n",
    "    print(i)\n",
    "    x = input(\"Press enter for more cal\")\n",
    "    if x == \"\":\n",
    "        cal()\n",
    "cal()"
   ]
  },
  {
   "cell_type": "code",
   "execution_count": 2,
   "id": "1402b587",
   "metadata": {},
   "outputs": [
    {
     "name": "stdout",
     "output_type": "stream",
     "text": [
      "Enter p = 2\n",
      "Enter t= 3\n",
      "Enter r= 4\n",
      "0.24\n",
      "Press enter for more cale\n"
     ]
    }
   ],
   "source": [
    "def cal():\n",
    "    p = int(input(\"Enter p = \"))\n",
    "    t = float(input(\"Enter t= \"))\n",
    "    r = float(input(\"Enter r= \"))\n",
    "    i= p*t*r/100\n",
    "    print(i)\n",
    "    x = input(\"Press enter for more cal\")\n",
    "    if x == \"\":\n",
    "        cal()\n",
    "cal()"
   ]
  },
  {
   "cell_type": "code",
   "execution_count": null,
   "id": "28e8a6a2",
   "metadata": {},
   "outputs": [],
   "source": []
  }
 ],
 "metadata": {
  "kernelspec": {
   "display_name": "Python 3 (ipykernel)",
   "language": "python",
   "name": "python3"
  },
  "language_info": {
   "codemirror_mode": {
    "name": "ipython",
    "version": 3
   },
   "file_extension": ".py",
   "mimetype": "text/x-python",
   "name": "python",
   "nbconvert_exporter": "python",
   "pygments_lexer": "ipython3",
   "version": "3.9.13"
  }
 },
 "nbformat": 4,
 "nbformat_minor": 5
}
