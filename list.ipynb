{
 "cells": [
  {
   "cell_type": "code",
   "execution_count": null,
   "id": "8a0013c4",
   "metadata": {},
   "outputs": [],
   "source": [
    "#python collection\n",
    "list\n",
    "tuple\n",
    "dict\n"
   ]
  },
  {
   "cell_type": "code",
   "execution_count": null,
   "id": "0227aa5f",
   "metadata": {},
   "outputs": [],
   "source": [
    "list \n",
    "indexing\n",
    "-ordered\n",
    "-multiple and duplicate value\n",
    "-mutable"
   ]
  },
  {
   "cell_type": "code",
   "execution_count": 7,
   "id": "724f1c64",
   "metadata": {},
   "outputs": [
    {
     "name": "stdout",
     "output_type": "stream",
     "text": [
      "<class 'tuple'>\n",
      "<class 'tuple'>\n",
      "('Apple', 'Ball', 'Cat')\n",
      "(1, 2, 3, 4, 5, 6, 7, 8, 9)\n"
     ]
    }
   ],
   "source": [
    "a=(\"Apple\", \"Ball\", \"Cat\")\n",
    "b=(1,2,3,4,5,6,7,8,9)\n",
    "print(type(a))\n",
    "print(type(b))\n",
    "print(a)\n",
    "print(b)\n"
   ]
  },
  {
   "cell_type": "code",
   "execution_count": 2,
   "id": "730813c1",
   "metadata": {},
   "outputs": [
    {
     "name": "stdout",
     "output_type": "stream",
     "text": [
      "('Apple', 'Ball', 'cat', 1, 2, 3, 4, 5, 6, 7, 8, 9)\n"
     ]
    }
   ],
   "source": [
    "a=(\"Apple\", \"Ball\", \"cat\")\n",
    "b=(1,2,3,4,5,6,7,8,9)\n",
    "c=(a+b)\n",
    "print(c)\n"
   ]
  },
  {
   "cell_type": "code",
   "execution_count": 3,
   "id": "e91d6904",
   "metadata": {},
   "outputs": [
    {
     "name": "stdout",
     "output_type": "stream",
     "text": [
      "(1, 2, 3, 4, 5, 1, 2, 3, 4, 5)\n"
     ]
    }
   ],
   "source": [
    "a=(1,2,3,4,5)\n",
    "print(a*2)\n"
   ]
  },
  {
   "cell_type": "code",
   "execution_count": 11,
   "id": "f097c768",
   "metadata": {},
   "outputs": [
    {
     "name": "stdout",
     "output_type": "stream",
     "text": [
      "Enter n= 2\n",
      "Enter x= 3\n",
      "3\n",
      "Enter x= 4\n",
      "5\n"
     ]
    }
   ],
   "source": [
    "n= int(input(\"Enter n= \"))\n",
    "i=()\n",
    "for i in range(n):\n",
    "    x = int(input(\"Enter x= \"))\n",
    "    i=i+x\n",
    "\n",
    "print(i)\n",
    "\n"
   ]
  },
  {
   "cell_type": "code",
   "execution_count": 12,
   "id": "37582193",
   "metadata": {},
   "outputs": [
    {
     "name": "stdout",
     "output_type": "stream",
     "text": [
      "Apple\n",
      "Zebra\n",
      "Ball\n",
      "Cat\n"
     ]
    }
   ],
   "source": [
    "a=(\"Apple\",\"Zebra\",\"Ball\",\"Cat\")\n",
    "for i in a:\n",
    "    print(i)\n",
    "    "
   ]
  },
  {
   "cell_type": "code",
   "execution_count": 13,
   "id": "17985e18",
   "metadata": {},
   "outputs": [
    {
     "name": "stdout",
     "output_type": "stream",
     "text": [
      "4\n"
     ]
    }
   ],
   "source": [
    "a=(\"Apple\",\"Zebra\",\"Ball\",\"Cat\")\n",
    "print(len(a))\n"
   ]
  },
  {
   "cell_type": "code",
   "execution_count": 17,
   "id": "2873a78b",
   "metadata": {},
   "outputs": [
    {
     "name": "stdout",
     "output_type": "stream",
     "text": [
      "Len of a=  5\n",
      "Yes 1\n"
     ]
    }
   ],
   "source": [
    "a=(\"Apple\",\"Zebra\",\"Ball\",\"Cat\",\"Ram\")\n",
    "print(\"Len of a= \",len(a))\n",
    "if \"Ram\" in a:\n",
    "    print(\"Yes\",a.count(\"Ram\"))\n",
    "else:\n",
    "    print(\"No\")\n",
    "    \n"
   ]
  },
  {
   "cell_type": "code",
   "execution_count": 36,
   "id": "3cd83d41",
   "metadata": {},
   "outputs": [
    {
     "ename": "SyntaxError",
     "evalue": "invalid syntax (579987595.py, line 2)",
     "output_type": "error",
     "traceback": [
      "\u001b[1;36m  File \u001b[1;32m\"C:\\Users\\PC\\AppData\\Local\\Temp\\ipykernel_7052\\579987595.py\"\u001b[1;36m, line \u001b[1;32m2\u001b[0m\n\u001b[1;33m    del.a(1)\u001b[0m\n\u001b[1;37m       ^\u001b[0m\n\u001b[1;31mSyntaxError\u001b[0m\u001b[1;31m:\u001b[0m invalid syntax\n"
     ]
    }
   ],
   "source": [
    "a = [\"Shyam\",\"Suresh\",\"Ramesh\",\"Hari\",\"Ram\"]\n",
    "del.a(1)\n"
   ]
  },
  {
   "cell_type": "code",
   "execution_count": 32,
   "id": "8979a1cf",
   "metadata": {},
   "outputs": [
    {
     "name": "stdout",
     "output_type": "stream",
     "text": [
      "['Shyam', 'Suresh', 'Ramesh', 'Hari']\n"
     ]
    }
   ],
   "source": [
    "a = [\"Shyam\",\"Suresh\",\"Ramesh\",\"Hari\",\"Ram\"]\n",
    "a.remove(\"Ram\")\n",
    "print(a)"
   ]
  },
  {
   "cell_type": "code",
   "execution_count": 39,
   "id": "e2e2a491",
   "metadata": {},
   "outputs": [
    {
     "ename": "IndentationError",
     "evalue": "expected an indented block (3628396481.py, line 5)",
     "output_type": "error",
     "traceback": [
      "\u001b[1;36m  File \u001b[1;32m\"C:\\Users\\PC\\AppData\\Local\\Temp\\ipykernel_7052\\3628396481.py\"\u001b[1;36m, line \u001b[1;32m5\u001b[0m\n\u001b[1;33m    print(i,a(i))\u001b[0m\n\u001b[1;37m                 ^\u001b[0m\n\u001b[1;31mIndentationError\u001b[0m\u001b[1;31m:\u001b[0m expected an indented block\n"
     ]
    }
   ],
   "source": [
    "a = [\"Shyam\",\"Suresh\",\"Ramesh\",\"Hari\",\"Ram\"]\n",
    "n = len(a)\n",
    "for i in range(n):\n",
    "    if a(i) == \"Ram\":\n",
    "print(i,a(i))\n"
   ]
  },
  {
   "cell_type": "code",
   "execution_count": 45,
   "id": "12037492",
   "metadata": {},
   "outputs": [
    {
     "data": {
      "text/plain": [
       "'Shyam'"
      ]
     },
     "execution_count": 45,
     "metadata": {},
     "output_type": "execute_result"
    }
   ],
   "source": [
    "a = [\"Shyam\",\"Suresh\",\"Ramesh\",\"Hari\",\"Ram\"]\n",
    "a[0]"
   ]
  },
  {
   "cell_type": "code",
   "execution_count": 48,
   "id": "d844648d",
   "metadata": {},
   "outputs": [
    {
     "name": "stdout",
     "output_type": "stream",
     "text": [
      "Enter n1= 4\n",
      "Enter n2= 6\n",
      "This is prime\n"
     ]
    }
   ],
   "source": [
    "c=2\n",
    "n1 = int(input(\"Enter n1= \"))\n",
    "n2 = int(input(\"Enter n2= \"))\n",
    "for i in range(n1,n2):\n",
    "    if n1%c==0:\n",
    "        print(\"This is prime\")\n",
    "        break\n",
    "    c= c+1\n",
    "\n",
    "    \n",
    "        "
   ]
  },
  {
   "cell_type": "code",
   "execution_count": null,
   "id": "ccc1a9c8",
   "metadata": {},
   "outputs": [],
   "source": [
    "n1 = int(input(\"Enter n1= \"))\n",
    "n2 = int(input(\"Enter n2= \"))\n",
    "if n1 >= 2 and n2 >=0:\n",
    "    for i in range(n1,n2):\n",
    "        for j in range(2,1):\n",
    "            \n",
    "            if i%j==0:\n",
    "                continue\n",
    "        else:\n",
    "            print(i)\n"
   ]
  },
  {
   "cell_type": "code",
   "execution_count": null,
   "id": "0d030d6a",
   "metadata": {},
   "outputs": [],
   "source": [
    "a = [\"Shyam\",\"Suresh\",\"Ramesh\",\"Hari\",\"Ram\"]\n"
   ]
  },
  {
   "cell_type": "code",
   "execution_count": 2,
   "id": "8e725239",
   "metadata": {},
   "outputs": [
    {
     "name": "stdout",
     "output_type": "stream",
     "text": [
      "Shayam\n"
     ]
    }
   ],
   "source": [
    "a = [['Ram',89, 'Kathmandu'], \n",
    "    ['Shayam', 57,'Bhaktapur'],\n",
    "    ['Hari',56,\"lalitpur\"]]\n",
    "print(a[1][0])"
   ]
  },
  {
   "cell_type": "code",
   "execution_count": null,
   "id": "30868a4a",
   "metadata": {},
   "outputs": [
    {
     "name": "stdout",
     "output_type": "stream",
     "text": [
      "Enter n = 3\n",
      "Enter name = 4\n",
      "Enter age= 5\n",
      "Enter add = 6\n",
      "Enter name = jj\n",
      "Enter age= 33\n",
      "Enter add = 44\n"
     ]
    }
   ],
   "source": [
    "data = []\n",
    "n = int(input('Enter n = '))\n",
    "for i in range(n):\n",
    "    name = input(\"Enter name = \")\n",
    "    age = int(input(\"Enter age= \"))\n",
    "    add = input(\"Enter add = \")\n",
    "    info = (name,age,add)\n",
    "    data.append(info)\n",
    "\n",
    "print(data)"
   ]
  },
  {
   "cell_type": "code",
   "execution_count": null,
   "id": "bb4f06cb",
   "metadata": {},
   "outputs": [],
   "source": [
    "a = [['Ram',89, 'Kathmandu'], \n",
    "    ['Shayam', 57,'Bhaktapur'],\n",
    "    ['Hari',56,\"lalitpur\"]]\n",
    "search = input(\"Enter name = \")\n",
    "for i in a:\n",
    "    if search in i:\n",
    "        "
   ]
  },
  {
   "cell_type": "code",
   "execution_count": null,
   "id": "ea1a6395",
   "metadata": {},
   "outputs": [],
   "source": [
    "a = \"Apple \""
   ]
  },
  {
   "cell_type": "code",
   "execution_count": null,
   "id": "befeb25b",
   "metadata": {},
   "outputs": [],
   "source": []
  },
  {
   "cell_type": "code",
   "execution_count": null,
   "id": "15f23b65",
   "metadata": {},
   "outputs": [],
   "source": []
  },
  {
   "cell_type": "code",
   "execution_count": null,
   "id": "56584d68",
   "metadata": {},
   "outputs": [],
   "source": []
  },
  {
   "cell_type": "code",
   "execution_count": null,
   "id": "ab101a85",
   "metadata": {},
   "outputs": [],
   "source": []
  },
  {
   "cell_type": "code",
   "execution_count": null,
   "id": "1010835c",
   "metadata": {},
   "outputs": [],
   "source": []
  }
 ],
 "metadata": {
  "kernelspec": {
   "display_name": "Python 3 (ipykernel)",
   "language": "python",
   "name": "python3"
  },
  "language_info": {
   "codemirror_mode": {
    "name": "ipython",
    "version": 3
   },
   "file_extension": ".py",
   "mimetype": "text/x-python",
   "name": "python",
   "nbconvert_exporter": "python",
   "pygments_lexer": "ipython3",
   "version": "3.9.13"
  }
 },
 "nbformat": 4,
 "nbformat_minor": 5
}
