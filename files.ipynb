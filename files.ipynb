{
 "cells": [
  {
   "cell_type": "code",
   "execution_count": 2,
   "id": "8d77e6fd",
   "metadata": {},
   "outputs": [
    {
     "ename": "SyntaxError",
     "evalue": "invalid syntax (3495623387.py, line 5)",
     "output_type": "error",
     "traceback": [
      "\u001b[1;36m  File \u001b[1;32m\"C:\\Users\\PC\\AppData\\Local\\Temp\\ipykernel_7632\\3495623387.py\"\u001b[1;36m, line \u001b[1;32m5\u001b[0m\n\u001b[1;33m    operations:\u001b[0m\n\u001b[1;37m               ^\u001b[0m\n\u001b[1;31mSyntaxError\u001b[0m\u001b[1;31m:\u001b[0m invalid syntax\n"
     ]
    }
   ],
   "source": [
    "b = open('file name','mode')\n",
    "b.colse()\n",
    "\n",
    "with open('file name','mode') as f:\n",
    "    operations:\n",
    "codes\n",
    "r - read\n",
    "x- create\n",
    "w - write\n",
    "a - append\n",
    "\n",
    "\n"
   ]
  },
  {
   "cell_type": "code",
   "execution_count": 4,
   "id": "e53db120",
   "metadata": {},
   "outputs": [
    {
     "name": "stdout",
     "output_type": "stream",
     "text": [
      "The file is already there.\n"
     ]
    }
   ],
   "source": [
    "try:\n",
    "    b = open('data.txt','x')\n",
    "    b.close()\n",
    "except:\n",
    "    print(\"The file is already there.\")"
   ]
  },
  {
   "cell_type": "code",
   "execution_count": 9,
   "id": "a9bce14f",
   "metadata": {
    "scrolled": true
   },
   "outputs": [
    {
     "name": "stdout",
     "output_type": "stream",
     "text": [
      "1. Hello world\n",
      "2. Hello world\n",
      "3. Hello world\n",
      "4 Hello world\n",
      "\n"
     ]
    }
   ],
   "source": [
    "file = open(\"data.txt\",'r')\n",
    "x = file.read()\n",
    "print(x)\n",
    "file.close()"
   ]
  },
  {
   "cell_type": "code",
   "execution_count": 15,
   "id": "bed76fd4",
   "metadata": {},
   "outputs": [
    {
     "name": "stdout",
     "output_type": "stream",
     "text": [
      "Enter line no = 4\n",
      "4 Hello world\n"
     ]
    }
   ],
   "source": [
    "data= x.split('\\n')\n",
    "line_no = int(input(\"Enter line no = \"))\n",
    "print(data[line_no-1])"
   ]
  },
  {
   "cell_type": "code",
   "execution_count": 20,
   "id": "dcb7ef8a",
   "metadata": {},
   "outputs": [
    {
     "name": "stdout",
     "output_type": "stream",
     "text": [
      "\n",
      "<class 'str'>\n"
     ]
    }
   ],
   "source": [
    "file = open(\"data.txt\",'r')\n",
    "x = file.read(20)\n",
    "print(x)\n",
    "print(type(x))\n",
    "file.close()"
   ]
  },
  {
   "cell_type": "code",
   "execution_count": 24,
   "id": "2c8a7480",
   "metadata": {},
   "outputs": [],
   "source": [
    "file = open(\"data.txt\",'w')\n",
    "file.write('Hello world')\n",
    "file.close()"
   ]
  },
  {
   "cell_type": "code",
   "execution_count": 3,
   "id": "29e3c57e",
   "metadata": {},
   "outputs": [
    {
     "name": "stdout",
     "output_type": "stream",
     "text": [
      "Enter n = 1\n",
      "Enter name= js\n",
      "Enter price =2\n",
      "Enter quantity =3\n",
      "all total =  6\n",
      "js,2,3,6\n",
      "\n"
     ]
    }
   ],
   "source": [
    "x = 0\n",
    "bill = str()\n",
    "n = int(input(\"Enter n = \"))\n",
    "for i in range(n):\n",
    "    name = input(\"Enter name= \")\n",
    "    price = int(input(\"Enter price =\"))\n",
    "    quantity = int(input(\"Enter quantity =\"))\n",
    "    total = price*quantity\n",
    "    bill = bill + f\"{name},{price},{quantity},{total}\\n\"\n",
    "    x= x+total\n",
    "    \n",
    "print(\"all total = \",x)\n",
    "print(bill)\n",
    "\n",
    "file = open('bill.csv','w')\n",
    "file.write(\"name, price, quantity, total\\n\")\n",
    "file.write(bill)\n",
    "file.close()\n"
   ]
  },
  {
   "cell_type": "code",
   "execution_count": 2,
   "id": "37cf8f59",
   "metadata": {},
   "outputs": [
    {
     "data": {
      "text/plain": [
       "'C:\\\\Users\\\\PC\\\\2nd Nov'"
      ]
     },
     "execution_count": 2,
     "metadata": {},
     "output_type": "execute_result"
    }
   ],
   "source": [
    "pwd"
   ]
  },
  {
   "cell_type": "code",
   "execution_count": null,
   "id": "0243f044",
   "metadata": {},
   "outputs": [],
   "source": []
  },
  {
   "cell_type": "code",
   "execution_count": null,
   "id": "43e03308",
   "metadata": {},
   "outputs": [],
   "source": []
  }
 ],
 "metadata": {
  "kernelspec": {
   "display_name": "Python 3 (ipykernel)",
   "language": "python",
   "name": "python3"
  },
  "language_info": {
   "codemirror_mode": {
    "name": "ipython",
    "version": 3
   },
   "file_extension": ".py",
   "mimetype": "text/x-python",
   "name": "python",
   "nbconvert_exporter": "python",
   "pygments_lexer": "ipython3",
   "version": "3.9.13"
  }
 },
 "nbformat": 4,
 "nbformat_minor": 5
}
