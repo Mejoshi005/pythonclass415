{
 "cells": [
  {
   "cell_type": "code",
   "execution_count": 6,
   "id": "5e5806c4",
   "metadata": {},
   "outputs": [
    {
     "name": "stdout",
     "output_type": "stream",
     "text": [
      "Enter n = 1\n",
      "Enter name= we\n",
      "Enter age =21\n",
      "Enter add = 2\n",
      "{'Name': ['we'], 'Add': ['2'], 'Age': [21]}\n"
     ]
    }
   ],
   "source": [
    "info = {'Name':[],'Add':[],'Age':[]}\n",
    "n = int(input(\"Enter n = \"))\n",
    "for i in range(n):\n",
    "    name = input(\"Enter name= \")\n",
    "    age = int(input(\"Enter age =\"))\n",
    "    add = input(\"Enter add = \")\n",
    "    info['Name'].append(name)\n",
    "    info['Add'].append(add)\n",
    "    info['Age'].append(age)\n",
    "    \n",
    "print(info)"
   ]
  }
 ],
 "metadata": {
  "kernelspec": {
   "display_name": "Python 3 (ipykernel)",
   "language": "python",
   "name": "python3"
  },
  "language_info": {
   "codemirror_mode": {
    "name": "ipython",
    "version": 3
   },
   "file_extension": ".py",
   "mimetype": "text/x-python",
   "name": "python",
   "nbconvert_exporter": "python",
   "pygments_lexer": "ipython3",
   "version": "3.9.13"
  }
 },
 "nbformat": 4,
 "nbformat_minor": 5
}
