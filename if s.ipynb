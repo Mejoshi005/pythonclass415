{
 "cells": [
  {
   "cell_type": "code",
   "execution_count": 1,
   "id": "89e291d8",
   "metadata": {},
   "outputs": [
    {
     "name": "stdout",
     "output_type": "stream",
     "text": [
      "True\n"
     ]
    }
   ],
   "source": [
    "a=10\n",
    "b=20\n",
    "print(a!=b)\n"
   ]
  },
  {
   "cell_type": "code",
   "execution_count": 6,
   "id": "1aa416b7",
   "metadata": {
    "scrolled": true
   },
   "outputs": [
    {
     "name": "stdout",
     "output_type": "stream",
     "text": [
      "Enter value of a 3\n",
      "Enter value of b 4\n",
      "b is greater\n"
     ]
    }
   ],
   "source": [
    "a=int(input(\"Enter value of a \"))\n",
    "b=int(input(\"Enter value of b \"))\n",
    "if a>b:\n",
    "     print(\"a is greater\") \n",
    "elif b>a:\n",
    "    print(\"b is greater\")\n",
    "else:\n",
    "    print(\"both a is b are eupal\")\n"
   ]
  },
  {
   "cell_type": "code",
   "execution_count": null,
   "id": "8ab9e35b",
   "metadata": {},
   "outputs": [],
   "source": [
    "phy=int(input(\"Enter Physics mark \"))\n",
    "chem=int(input(\"Enter chemestery mark \"))\n",
    "math=int(input(\"Enter Mathmatatics mark \"))\n",
    "total= phy+chem+math\n",
    "per= total/3\n",
    "\n",
    "if per >= 80:\n",
    "    Grade = \"A\"\n",
    "elif per >= 60:\n",
    "    Grade = \"B\"\n",
    "elif per >= 45:\n",
    "    Grade =\"C\"\n",
    "else:\n",
    "    Grade ='F'\n",
    "    \n",
    "print (\"Grade = \";Grade)\n"
   ]
  },
  {
   "cell_type": "code",
   "execution_count": null,
   "id": "8f4fa1c1",
   "metadata": {},
   "outputs": [],
   "source": [
    "a=int(input(\"Enter a= \"))\n",
    "b=int(input(\"Enter b= \"))\n",
    "o=input(\"Enter o= \")\n",
    "if o == '+':\n",
    "    print(a+b)\n",
    "elif o== '-':\n",
    "    print(a-b)\n",
    "else:\n",
    "    print(\"Enter Valid operator\")"
   ]
  },
  {
   "cell_type": "code",
   "execution_count": null,
   "id": "2c8515c0",
   "metadata": {},
   "outputs": [],
   "source": [
    "a=int(input(\"Enter a= \"))\n",
    "if a > 0:\n",
    "    if a % 2 == 0:\n",
    "        print(\"a is even and +ve\")\n",
    "    else:\n",
    "        print(\"a is +ve but not ecen\")\n",
    "        \n",
    "    \n"
   ]
  },
  {
   "cell_type": "code",
   "execution_count": null,
   "id": "943aa755",
   "metadata": {},
   "outputs": [],
   "source": [
    "=int(input(\"Enter a= \"))\n",
    "b=int(input(\"Enter b= \"))\n",
    "o=input(\"Enter o= \")\n",
    "if o == '+':\n",
    "    print(a+b)\n",
    "elif o== '-':\n",
    "    print(a-b)\n",
    "elif o ==\"/\":\n",
    "    if b! = 0:\n",
    "        print (a/b)\n",
    "    else:\n",
    "        print('The value of b is zero') \n",
    "else:\n",
    "    print(\"Enter Valid operator\")"
   ]
  }
 ],
 "metadata": {
  "kernelspec": {
   "display_name": "Python 3 (ipykernel)",
   "language": "python",
   "name": "python3"
  },
  "language_info": {
   "codemirror_mode": {
    "name": "ipython",
    "version": 3
   },
   "file_extension": ".py",
   "mimetype": "text/x-python",
   "name": "python",
   "nbconvert_exporter": "python",
   "pygments_lexer": "ipython3",
   "version": "3.9.13"
  }
 },
 "nbformat": 4,
 "nbformat_minor": 5
}
